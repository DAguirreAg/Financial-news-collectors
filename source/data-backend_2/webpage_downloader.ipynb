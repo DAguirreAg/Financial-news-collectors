{
 "cells": [
  {
   "cell_type": "markdown",
   "id": "ebacb95d-e7f0-4370-84a7-222429eca8f2",
   "metadata": {},
   "source": [
    "# Environment setup"
   ]
  },
  {
   "cell_type": "code",
   "execution_count": 1,
   "id": "1bbf0b3b-d12c-48d5-9b29-e4ed3654fe1a",
   "metadata": {},
   "outputs": [],
   "source": [
    "import time\n",
    "import datetime\n",
    "from selenium import webdriver\n",
    "from selenium.common.exceptions import WebDriverException\n",
    "from selenium.webdriver.chrome.service import Service\n",
    "from selenium.webdriver.chrome.options import Options\n",
    "from webdriver_manager.chrome import ChromeDriverManager\n",
    "\n",
    "from config import Config\n",
    "import utils"
   ]
  },
  {
   "cell_type": "markdown",
   "id": "87606bdd-7cd9-45ed-9255-5dcae7440386",
   "metadata": {},
   "source": [
    "# Functions"
   ]
  },
  {
   "cell_type": "code",
   "execution_count": 2,
   "id": "294d6f68-7609-4aa1-b139-5e33680d9a86",
   "metadata": {},
   "outputs": [],
   "source": [
    "def get_driver(webdriver_browser):\n",
    "    \n",
    "    # Start driver\n",
    "    if webdriver_browser == 'chrome':\n",
    "        chrome_options = Options()\n",
    "        driver = webdriver.Chrome(service = Service(ChromeDriverManager().install()), options=chrome_options)\n",
    "        driver.implicitly_wait(Config.IMPLICIT_WAIT_TIME) # seconds to wait\n",
    "\n",
    "    elif webdriver_browser == 'selenium-api':\n",
    "        driver = webdriver.Remote(\"http://selenium_standalone_chrome_financial_news_collectors:4444\", options=webdriver.ChromeOptions())\n",
    "\n",
    "    else:\n",
    "        raise Exception('Specified webdriver not implemented. Please check: Config.WEBDRIVER_BROWSER')\n",
    "        \n",
    "    return driver"
   ]
  },
  {
   "cell_type": "markdown",
   "id": "00701712-f0b1-4271-92b8-ea4638177a61",
   "metadata": {},
   "source": [
    "# Main"
   ]
  },
  {
   "cell_type": "code",
   "execution_count": 3,
   "id": "da038b75-356a-487b-922b-da88de3eb68c",
   "metadata": {},
   "outputs": [
    {
     "name": "stdout",
     "output_type": "stream",
     "text": [
      "Progress: 1/7. URL: https://www.bbc.com/news\n",
      "Progress: 2/7. URL: https://www.bbc.com/news/science-environment-56837908\n",
      "Progress: 3/7. URL: https://www.bbc.com/news/world\n",
      "Progress: 4/7. URL: https://www.bbc.com/news/business\n",
      "Progress: 5/7. URL: https://www.bbc.com/news/technology\n",
      "Progress: 6/7. URL: https://www.bbc.com/news/science_and_environment\n",
      "Progress: 7/7. URL: https://www.bbc.com/news/stories\n"
     ]
    }
   ],
   "source": [
    "# Get URLs to download\n",
    "urls = []\n",
    "driver = get_driver(Config.WEBDRIVER_BROWSER)\n",
    "for k in Config.NEWS_SETTINGS.keys():\n",
    "    \n",
    "    # Get download path\n",
    "    download_path = Config.NEWS_SETTINGS[k]['DOWNLOAD_PATH'] + str(datetime.datetime.now().date()).replace('-', '')\n",
    "    \n",
    "    # Get URLs to download\n",
    "    urls = Config.NEWS_SETTINGS[k]['URLS']\n",
    "\n",
    "    # Download URLs\n",
    "    for i, url in enumerate(urls):\n",
    "        print(f'Progress: {i+1}/{len(urls)}. URL: {url}')\n",
    "\n",
    "        # Go to url\n",
    "        driver.get(url)\n",
    "\n",
    "        # Wait to load page\n",
    "        time.sleep(Config.WAIT_PAUSE_TIME)\n",
    "\n",
    "        # Get HTML content\n",
    "        html_doc = driver.page_source\n",
    "\n",
    "        # Save webpage\n",
    "        ## Create filename\n",
    "        filename_datetime = str(datetime.datetime.now()).replace(' ', '_').replace('.', '_').replace('-', '').replace(':', '')\n",
    "        filename = filename_datetime + '.json'\n",
    "\n",
    "        ## Save webpage\n",
    "        utils.save_webpage(url, html_doc, download_path, filename)\n",
    "    \n",
    "# Close driver\n",
    "driver.close()"
   ]
  }
 ],
 "metadata": {
  "kernelspec": {
   "display_name": "Python 3 (ipykernel)",
   "language": "python",
   "name": "python3"
  },
  "language_info": {
   "codemirror_mode": {
    "name": "ipython",
    "version": 3
   },
   "file_extension": ".py",
   "mimetype": "text/x-python",
   "name": "python",
   "nbconvert_exporter": "python",
   "pygments_lexer": "ipython3",
   "version": "3.8.10"
  }
 },
 "nbformat": 4,
 "nbformat_minor": 5
}
